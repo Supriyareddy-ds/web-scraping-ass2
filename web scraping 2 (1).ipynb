{
 "cells": [
  {
   "cell_type": "code",
   "execution_count": 62,
   "metadata": {},
   "outputs": [],
   "source": [
    "import selenium\n",
    "import pandas as pd\n",
    "from selenium import webdriver"
   ]
  },
  {
   "cell_type": "code",
   "execution_count": 63,
   "metadata": {
    "scrolled": false
   },
   "outputs": [],
   "source": [
    "driver=webdriver.Chrome(\"Desktop/chromedriver.exe\")"
   ]
  },
  {
   "cell_type": "code",
   "execution_count": 64,
   "metadata": {},
   "outputs": [],
   "source": [
    "driver.get(\"https://www.naukri.com/\")"
   ]
  },
  {
   "cell_type": "code",
   "execution_count": 65,
   "metadata": {},
   "outputs": [],
   "source": [
    "search_job=driver.find_element_by_id('qsb-keyword-sugg')\n",
    "search_job.send_keys(\"Data Analyst\")\n",
    "search_loc=driver.find_element_by_xpath(\"//input[@id='qsb-location-sugg']\")\n",
    "search_loc.send_keys(\"Banglore\")"
   ]
  },
  {
   "cell_type": "code",
   "execution_count": 66,
   "metadata": {},
   "outputs": [],
   "source": [
    "search_btn=driver.find_element_by_xpath(\"//div[@class='search-btn']/button\")\n",
    "search_btn.click()"
   ]
  },
  {
   "cell_type": "code",
   "execution_count": 67,
   "metadata": {},
   "outputs": [],
   "source": [
    "url=\"https://www.naukri.com/data-analystdata-analystbanglore-jobs?k=data%20analystdata%20analystbanglore\""
   ]
  },
  {
   "cell_type": "code",
   "execution_count": 68,
   "metadata": {},
   "outputs": [],
   "source": [
    "job_title=[]\n",
    "company_names=[]\n",
    "locations_list=[]\n",
    "experience_list=[]"
   ]
  },
  {
   "cell_type": "code",
   "execution_count": 69,
   "metadata": {},
   "outputs": [
    {
     "data": {
      "text/plain": [
       "[<selenium.webdriver.remote.webelement.WebElement (session=\"894eabb6d0813433bc99fa5ec9044205\", element=\"d3d6fc37-5ac0-473a-83df-6318da48011f\")>,\n",
       " <selenium.webdriver.remote.webelement.WebElement (session=\"894eabb6d0813433bc99fa5ec9044205\", element=\"9f115047-2e65-47a9-8436-cff39406e15b\")>,\n",
       " <selenium.webdriver.remote.webelement.WebElement (session=\"894eabb6d0813433bc99fa5ec9044205\", element=\"84ab70e2-5415-4322-9b8f-4ff9cf870015\")>,\n",
       " <selenium.webdriver.remote.webelement.WebElement (session=\"894eabb6d0813433bc99fa5ec9044205\", element=\"5dc9b0a6-2b38-4be2-8b9e-5742732d2191\")>,\n",
       " <selenium.webdriver.remote.webelement.WebElement (session=\"894eabb6d0813433bc99fa5ec9044205\", element=\"305fa3ca-aa02-486a-8b64-9d5a1ed02426\")>,\n",
       " <selenium.webdriver.remote.webelement.WebElement (session=\"894eabb6d0813433bc99fa5ec9044205\", element=\"1523d01d-2589-4aa5-9c2d-dadee9326a84\")>,\n",
       " <selenium.webdriver.remote.webelement.WebElement (session=\"894eabb6d0813433bc99fa5ec9044205\", element=\"56ca2388-a4f1-47a2-8a39-6f044931a5f9\")>,\n",
       " <selenium.webdriver.remote.webelement.WebElement (session=\"894eabb6d0813433bc99fa5ec9044205\", element=\"d6fe9cb1-435c-44ef-a254-87ebb8a89561\")>,\n",
       " <selenium.webdriver.remote.webelement.WebElement (session=\"894eabb6d0813433bc99fa5ec9044205\", element=\"11e222f8-2173-4f06-975a-bbfee1d6f8dd\")>]"
      ]
     },
     "execution_count": 69,
     "metadata": {},
     "output_type": "execute_result"
    }
   ],
   "source": [
    "titles_tag=driver.find_elements_by_xpath(\"//a[@class='title fw500 ellipsis']\")\n",
    "titles_tag[0:9]"
   ]
  },
  {
   "cell_type": "code",
   "execution_count": 70,
   "metadata": {},
   "outputs": [
    {
     "data": {
      "text/plain": [
       "['Data Analyst - SAP',\n",
       " 'Hiring Data Analysts on Contract',\n",
       " 'Senior Data Analyst',\n",
       " 'Data Analyst',\n",
       " 'Data Analyst -Azure Data lake, Azure Data factory',\n",
       " 'Business / Data Analyst',\n",
       " 'Data Analyst - O2C - Bangalore',\n",
       " 'Intern Data Analyst',\n",
       " 'NiFi Data Analyst']"
      ]
     },
     "execution_count": 70,
     "metadata": {},
     "output_type": "execute_result"
    }
   ],
   "source": [
    "for i in titles_tag:\n",
    "    job_title.append(i.text)\n",
    "job_title[0:9]"
   ]
  },
  {
   "cell_type": "code",
   "execution_count": 71,
   "metadata": {},
   "outputs": [
    {
     "data": {
      "text/plain": [
       "[<selenium.webdriver.remote.webelement.WebElement (session=\"894eabb6d0813433bc99fa5ec9044205\", element=\"e8aa1442-82dd-46e2-9953-1c84f987ed8e\")>,\n",
       " <selenium.webdriver.remote.webelement.WebElement (session=\"894eabb6d0813433bc99fa5ec9044205\", element=\"70237580-c61f-4973-a3ec-386e4909806f\")>,\n",
       " <selenium.webdriver.remote.webelement.WebElement (session=\"894eabb6d0813433bc99fa5ec9044205\", element=\"4d049011-9a10-4a49-8a94-b201e6e697a4\")>,\n",
       " <selenium.webdriver.remote.webelement.WebElement (session=\"894eabb6d0813433bc99fa5ec9044205\", element=\"22c770ab-880a-439c-a15c-7a9ab6e2978a\")>,\n",
       " <selenium.webdriver.remote.webelement.WebElement (session=\"894eabb6d0813433bc99fa5ec9044205\", element=\"2279c616-a2b9-4e7e-8c90-7b53889461eb\")>,\n",
       " <selenium.webdriver.remote.webelement.WebElement (session=\"894eabb6d0813433bc99fa5ec9044205\", element=\"053e4b68-c855-4eb9-81bf-bd537d55b858\")>,\n",
       " <selenium.webdriver.remote.webelement.WebElement (session=\"894eabb6d0813433bc99fa5ec9044205\", element=\"4b5de0e1-10cf-4007-9cb0-b3a0c65b5628\")>,\n",
       " <selenium.webdriver.remote.webelement.WebElement (session=\"894eabb6d0813433bc99fa5ec9044205\", element=\"2cff5e03-fbbe-496a-9d5d-29f9af0a4a8f\")>,\n",
       " <selenium.webdriver.remote.webelement.WebElement (session=\"894eabb6d0813433bc99fa5ec9044205\", element=\"347f3119-9910-4015-9b95-b8141ac51632\")>]"
      ]
     },
     "execution_count": 71,
     "metadata": {},
     "output_type": "execute_result"
    }
   ],
   "source": [
    "company_tag=driver.find_elements_by_xpath(\"//a[@class='subTitle ellipsis fleft']\")\n",
    "company_tag[0:9]"
   ]
  },
  {
   "cell_type": "code",
   "execution_count": 72,
   "metadata": {},
   "outputs": [
    {
     "data": {
      "text/plain": [
       "['Boston Scientific Corporation',\n",
       " 'Flipkart Internet Private Limited',\n",
       " 'Schneider Electric',\n",
       " 'Shell India Markets Private Limited',\n",
       " 'Mindtree Limited',\n",
       " 'IBM India Pvt. Limited',\n",
       " 'RANDSTAD INDIA PVT LTD',\n",
       " 'Outsource Big Data',\n",
       " 'Capgemini Technology Services India Limited']"
      ]
     },
     "execution_count": 72,
     "metadata": {},
     "output_type": "execute_result"
    }
   ],
   "source": [
    "for i in company_tag:\n",
    "    company_names.append(i.text)\n",
    "company_names[0:9]"
   ]
  },
  {
   "cell_type": "code",
   "execution_count": 73,
   "metadata": {},
   "outputs": [
    {
     "data": {
      "text/plain": [
       "[<selenium.webdriver.remote.webelement.WebElement (session=\"894eabb6d0813433bc99fa5ec9044205\", element=\"ed9645e6-c8e9-4f04-a5d2-e9341556d7d7\")>,\n",
       " <selenium.webdriver.remote.webelement.WebElement (session=\"894eabb6d0813433bc99fa5ec9044205\", element=\"3e90b360-663a-4260-a0ca-f722a949ca98\")>,\n",
       " <selenium.webdriver.remote.webelement.WebElement (session=\"894eabb6d0813433bc99fa5ec9044205\", element=\"a5da2e23-c346-4a5a-9925-1ed3eb56f9ff\")>,\n",
       " <selenium.webdriver.remote.webelement.WebElement (session=\"894eabb6d0813433bc99fa5ec9044205\", element=\"d6d4c67e-4b8f-417a-b3e1-214c341ab79f\")>,\n",
       " <selenium.webdriver.remote.webelement.WebElement (session=\"894eabb6d0813433bc99fa5ec9044205\", element=\"3a6242d3-0764-4828-93d9-6f6fe77deb0d\")>,\n",
       " <selenium.webdriver.remote.webelement.WebElement (session=\"894eabb6d0813433bc99fa5ec9044205\", element=\"59ef353f-ab16-4c31-a940-0e2aff3157fd\")>,\n",
       " <selenium.webdriver.remote.webelement.WebElement (session=\"894eabb6d0813433bc99fa5ec9044205\", element=\"ca47602c-8564-4329-b5ad-750a66c3bde5\")>,\n",
       " <selenium.webdriver.remote.webelement.WebElement (session=\"894eabb6d0813433bc99fa5ec9044205\", element=\"8d852d32-fdc8-440b-9900-6562cc068cb3\")>,\n",
       " <selenium.webdriver.remote.webelement.WebElement (session=\"894eabb6d0813433bc99fa5ec9044205\", element=\"f879927a-4c79-46e4-bb46-6c6227eed81c\")>]"
      ]
     },
     "execution_count": 73,
     "metadata": {},
     "output_type": "execute_result"
    }
   ],
   "source": [
    "loc_tag=driver.find_elements_by_xpath(\"//li[@class='fleft grey-text br2 placeHolderLi location']/span[1]\")\n",
    "loc_tag[0:9]"
   ]
  },
  {
   "cell_type": "code",
   "execution_count": 74,
   "metadata": {},
   "outputs": [
    {
     "data": {
      "text/plain": [
       "['Pune, Delhi, Bengaluru, Gurgaon',\n",
       " 'Bengaluru',\n",
       " 'Bengaluru / Bangalore',\n",
       " 'Bengaluru',\n",
       " 'Chennai, Pune, Bengaluru, Hyderabad',\n",
       " 'Bengaluru',\n",
       " 'Bengaluru',\n",
       " 'Bengaluru',\n",
       " 'Bengaluru']"
      ]
     },
     "execution_count": 74,
     "metadata": {},
     "output_type": "execute_result"
    }
   ],
   "source": [
    "for i in loc_tag:\n",
    "    locations_list.append(i.text)\n",
    "locations_list[0:9]"
   ]
  },
  {
   "cell_type": "code",
   "execution_count": 75,
   "metadata": {},
   "outputs": [
    {
     "data": {
      "text/plain": [
       "[<selenium.webdriver.remote.webelement.WebElement (session=\"894eabb6d0813433bc99fa5ec9044205\", element=\"4906c8d0-3fe4-40be-9af1-6d6c3cfdc2ec\")>,\n",
       " <selenium.webdriver.remote.webelement.WebElement (session=\"894eabb6d0813433bc99fa5ec9044205\", element=\"2a5c79d4-8ad1-4cdd-b4ed-a1479439d044\")>,\n",
       " <selenium.webdriver.remote.webelement.WebElement (session=\"894eabb6d0813433bc99fa5ec9044205\", element=\"fa17eb6b-67c2-4d00-833a-4de047937505\")>,\n",
       " <selenium.webdriver.remote.webelement.WebElement (session=\"894eabb6d0813433bc99fa5ec9044205\", element=\"b5b3fe7e-74c3-438e-a820-0294c9fd7937\")>,\n",
       " <selenium.webdriver.remote.webelement.WebElement (session=\"894eabb6d0813433bc99fa5ec9044205\", element=\"4bab1d2d-892f-4ad5-a401-0d27513341ab\")>,\n",
       " <selenium.webdriver.remote.webelement.WebElement (session=\"894eabb6d0813433bc99fa5ec9044205\", element=\"8e644974-63bb-4fad-8a1d-ee827594a9e8\")>,\n",
       " <selenium.webdriver.remote.webelement.WebElement (session=\"894eabb6d0813433bc99fa5ec9044205\", element=\"0828fe9e-2c19-4b9c-8a69-db5e9a35abdd\")>,\n",
       " <selenium.webdriver.remote.webelement.WebElement (session=\"894eabb6d0813433bc99fa5ec9044205\", element=\"712dd600-2f6b-4513-b39d-11a3fead4137\")>,\n",
       " <selenium.webdriver.remote.webelement.WebElement (session=\"894eabb6d0813433bc99fa5ec9044205\", element=\"e70c4c50-fbca-4f1c-ad67-eb38e24fa30e\")>]"
      ]
     },
     "execution_count": 75,
     "metadata": {},
     "output_type": "execute_result"
    }
   ],
   "source": [
    "exp_tag=driver.find_elements_by_xpath(\"//li[@class='fleft grey-text br2 placeHolderLi experience']/span[1]\")\n",
    "exp_tag[0:9]"
   ]
  },
  {
   "cell_type": "code",
   "execution_count": 76,
   "metadata": {},
   "outputs": [
    {
     "data": {
      "text/plain": [
       "['3-5 Yrs',\n",
       " '2-5 Yrs',\n",
       " '2-5 Yrs',\n",
       " '5-8 Yrs',\n",
       " '5-9 Yrs',\n",
       " '2-4 Yrs',\n",
       " '2-4 Yrs',\n",
       " '0-1 Yrs',\n",
       " '4-6 Yrs']"
      ]
     },
     "execution_count": 76,
     "metadata": {},
     "output_type": "execute_result"
    }
   ],
   "source": [
    "for i in exp_tag:\n",
    "    experience_list.append(i.text)\n",
    "experience_list[0:9]"
   ]
  },
  {
   "cell_type": "code",
   "execution_count": 109,
   "metadata": {},
   "outputs": [],
   "source": [
    "import pandas as pd\n",
    "DataAnalyst=pd.DataFrame()\n",
    "DataAnalyst['JOB_NAME']=job_title[0:9]\n",
    "DataAnalyst['COMPANY']=company_names[0:9]\n",
    "DataAnalyst['JOB_LOCATION']=locations_list[0:9]\n",
    "DataAnalyst['EXPERIENCE']=experience_list[0:9]"
   ]
  },
  {
   "cell_type": "code",
   "execution_count": 110,
   "metadata": {},
   "outputs": [
    {
     "data": {
      "text/html": [
       "<div>\n",
       "<style scoped>\n",
       "    .dataframe tbody tr th:only-of-type {\n",
       "        vertical-align: middle;\n",
       "    }\n",
       "\n",
       "    .dataframe tbody tr th {\n",
       "        vertical-align: top;\n",
       "    }\n",
       "\n",
       "    .dataframe thead th {\n",
       "        text-align: right;\n",
       "    }\n",
       "</style>\n",
       "<table border=\"1\" class=\"dataframe\">\n",
       "  <thead>\n",
       "    <tr style=\"text-align: right;\">\n",
       "      <th></th>\n",
       "      <th>JOB_NAME</th>\n",
       "      <th>COMPANY</th>\n",
       "      <th>JOB_LOCATION</th>\n",
       "      <th>EXPERIENCE</th>\n",
       "    </tr>\n",
       "  </thead>\n",
       "  <tbody>\n",
       "    <tr>\n",
       "      <th>0</th>\n",
       "      <td>Senior Data Scientist | CES IT LTD | CMMI Level 5</td>\n",
       "      <td>CES Ltd.</td>\n",
       "      <td>Chennai, Pune, Delhi NCR, Mumbai, Bengaluru, H...</td>\n",
       "      <td>2-7 Yrs</td>\n",
       "    </tr>\n",
       "    <tr>\n",
       "      <th>1</th>\n",
       "      <td>Sr Data Scientist</td>\n",
       "      <td>Concentrix Daksh Services India Private Limited.</td>\n",
       "      <td>Pune, Mumbai, Bengaluru, Gurgaon, Kolkata</td>\n",
       "      <td>4-9 Yrs</td>\n",
       "    </tr>\n",
       "    <tr>\n",
       "      <th>2</th>\n",
       "      <td>Associate Data Scientist | 0-2 Years | Gurgaon</td>\n",
       "      <td>Xtage Technologies Private Limited</td>\n",
       "      <td>Delhi NCR, Gurgaon</td>\n",
       "      <td>0-2 Yrs</td>\n",
       "    </tr>\n",
       "    <tr>\n",
       "      <th>3</th>\n",
       "      <td>Data Scientist</td>\n",
       "      <td>IBM India Pvt. Limited</td>\n",
       "      <td>Gurgaon Gurugram</td>\n",
       "      <td>6-8 Yrs</td>\n",
       "    </tr>\n",
       "    <tr>\n",
       "      <th>4</th>\n",
       "      <td>Data Scientist</td>\n",
       "      <td>IBM India Pvt. Limited</td>\n",
       "      <td>Gurgaon Gurugram</td>\n",
       "      <td>4-8 Yrs</td>\n",
       "    </tr>\n",
       "    <tr>\n",
       "      <th>5</th>\n",
       "      <td>Senior Data Scientist (Remote / Work from Home)</td>\n",
       "      <td>Wallethub</td>\n",
       "      <td>Chennai, Delhi NCR, Bengaluru</td>\n",
       "      <td>10-20 Yrs</td>\n",
       "    </tr>\n",
       "    <tr>\n",
       "      <th>6</th>\n",
       "      <td>Analyst/Senior Analyst - DATA Scientist</td>\n",
       "      <td>Tredence</td>\n",
       "      <td>Chennai, Delhi NCR, Bengaluru</td>\n",
       "      <td>2-4 Yrs</td>\n",
       "    </tr>\n",
       "    <tr>\n",
       "      <th>7</th>\n",
       "      <td>Adv Data Scientist - CSP</td>\n",
       "      <td>MatrikonOPC</td>\n",
       "      <td>Greater Noida, Bengaluru</td>\n",
       "      <td>2-5 Yrs</td>\n",
       "    </tr>\n",
       "    <tr>\n",
       "      <th>8</th>\n",
       "      <td>Senior/Lead Data Scientist</td>\n",
       "      <td>Editorialist YX India Private Limited</td>\n",
       "      <td>Delhi NCR, Gurgaon</td>\n",
       "      <td>4-7 Yrs</td>\n",
       "    </tr>\n",
       "    <tr>\n",
       "      <th>9</th>\n",
       "      <td>Senior Data Scientist</td>\n",
       "      <td>Chegg India Pvt Ltd</td>\n",
       "      <td>Delhi</td>\n",
       "      <td>4-8 Yrs</td>\n",
       "    </tr>\n",
       "  </tbody>\n",
       "</table>\n",
       "</div>"
      ],
      "text/plain": [
       "                                            JOB_NAME  \\\n",
       "0  Senior Data Scientist | CES IT LTD | CMMI Level 5   \n",
       "1                                  Sr Data Scientist   \n",
       "2     Associate Data Scientist | 0-2 Years | Gurgaon   \n",
       "3                                     Data Scientist   \n",
       "4                                     Data Scientist   \n",
       "5    Senior Data Scientist (Remote / Work from Home)   \n",
       "6            Analyst/Senior Analyst - DATA Scientist   \n",
       "7                           Adv Data Scientist - CSP   \n",
       "8                         Senior/Lead Data Scientist   \n",
       "9                              Senior Data Scientist   \n",
       "\n",
       "                                            COMPANY  \\\n",
       "0                                          CES Ltd.   \n",
       "1  Concentrix Daksh Services India Private Limited.   \n",
       "2                Xtage Technologies Private Limited   \n",
       "3                            IBM India Pvt. Limited   \n",
       "4                            IBM India Pvt. Limited   \n",
       "5                                         Wallethub   \n",
       "6                                          Tredence   \n",
       "7                                       MatrikonOPC   \n",
       "8             Editorialist YX India Private Limited   \n",
       "9                               Chegg India Pvt Ltd   \n",
       "\n",
       "                                        JOB_LOCATION EXPERIENCE  \n",
       "0  Chennai, Pune, Delhi NCR, Mumbai, Bengaluru, H...    2-7 Yrs  \n",
       "1          Pune, Mumbai, Bengaluru, Gurgaon, Kolkata    4-9 Yrs  \n",
       "2                                 Delhi NCR, Gurgaon    0-2 Yrs  \n",
       "3                                   Gurgaon Gurugram    6-8 Yrs  \n",
       "4                                   Gurgaon Gurugram    4-8 Yrs  \n",
       "5                      Chennai, Delhi NCR, Bengaluru  10-20 Yrs  \n",
       "6                      Chennai, Delhi NCR, Bengaluru    2-4 Yrs  \n",
       "7                           Greater Noida, Bengaluru    2-5 Yrs  \n",
       "8                                 Delhi NCR, Gurgaon    4-7 Yrs  \n",
       "9                                              Delhi    4-8 Yrs  "
      ]
     },
     "execution_count": 110,
     "metadata": {},
     "output_type": "execute_result"
    }
   ],
   "source": [
    "DataAnalyst"
   ]
  },
  {
   "cell_type": "code",
   "execution_count": null,
   "metadata": {},
   "outputs": [],
   "source": []
  },
  {
   "cell_type": "markdown",
   "metadata": {},
   "source": [
    "#question 2"
   ]
  },
  {
   "cell_type": "code",
   "execution_count": 141,
   "metadata": {},
   "outputs": [],
   "source": [
    "import selenium\n",
    "import pandas as pd\n",
    "from selenium import webdriver"
   ]
  },
  {
   "cell_type": "code",
   "execution_count": 142,
   "metadata": {},
   "outputs": [],
   "source": [
    "driver=webdriver.Chrome(\"Desktop/chromedriver.exe\")"
   ]
  },
  {
   "cell_type": "code",
   "execution_count": 143,
   "metadata": {},
   "outputs": [],
   "source": [
    "driver.get(\"https://www.naukri.com/\")"
   ]
  },
  {
   "cell_type": "code",
   "execution_count": 144,
   "metadata": {},
   "outputs": [],
   "source": [
    "search_job=driver.find_element_by_id('qsb-keyword-sugg')\n",
    "search_job.send_keys(\"Data Scientist\")\n",
    "search_loc=driver.find_element_by_xpath(\"//input[@id='qsb-location-sugg']\")\n",
    "search_loc.send_keys(\"Banglore\")"
   ]
  },
  {
   "cell_type": "code",
   "execution_count": 145,
   "metadata": {},
   "outputs": [],
   "source": [
    "search_btn=driver.find_element_by_xpath(\"//div[@class='search-btn']/button\")\n",
    "search_btn.click()"
   ]
  },
  {
   "cell_type": "code",
   "execution_count": 146,
   "metadata": {},
   "outputs": [],
   "source": [
    "url=\"https://www.naukri.com/data-scientist-jobs-in-banglore?k=data%20scientist&l=banglore\""
   ]
  },
  {
   "cell_type": "code",
   "execution_count": 147,
   "metadata": {},
   "outputs": [],
   "source": [
    "driver.get(url)"
   ]
  },
  {
   "cell_type": "code",
   "execution_count": 148,
   "metadata": {},
   "outputs": [],
   "source": [
    "job_title=[]\n",
    "company_names=[]\n",
    "locations_list=[]\n",
    "experience_list=[]"
   ]
  },
  {
   "cell_type": "code",
   "execution_count": 149,
   "metadata": {},
   "outputs": [
    {
     "data": {
      "text/plain": [
       "[<selenium.webdriver.remote.webelement.WebElement (session=\"5305f54fbe6b9b40c0546809d6dfaa5b\", element=\"4c45aade-aba5-4df5-bce2-63aa3df0bae5\")>,\n",
       " <selenium.webdriver.remote.webelement.WebElement (session=\"5305f54fbe6b9b40c0546809d6dfaa5b\", element=\"fdc3273c-35b5-4385-b23e-a1d408c3554f\")>,\n",
       " <selenium.webdriver.remote.webelement.WebElement (session=\"5305f54fbe6b9b40c0546809d6dfaa5b\", element=\"ae35c415-d682-4ce5-a813-27c28809b2ac\")>,\n",
       " <selenium.webdriver.remote.webelement.WebElement (session=\"5305f54fbe6b9b40c0546809d6dfaa5b\", element=\"eb61e817-eff7-4856-aaee-80001f5c7fa8\")>,\n",
       " <selenium.webdriver.remote.webelement.WebElement (session=\"5305f54fbe6b9b40c0546809d6dfaa5b\", element=\"146f138a-671a-4c41-83ed-49702d9f5991\")>,\n",
       " <selenium.webdriver.remote.webelement.WebElement (session=\"5305f54fbe6b9b40c0546809d6dfaa5b\", element=\"d5763870-5797-4d77-8c61-1a3ab7f69e1a\")>,\n",
       " <selenium.webdriver.remote.webelement.WebElement (session=\"5305f54fbe6b9b40c0546809d6dfaa5b\", element=\"886a9b9d-41e9-49b1-9589-b05dfcb005fc\")>,\n",
       " <selenium.webdriver.remote.webelement.WebElement (session=\"5305f54fbe6b9b40c0546809d6dfaa5b\", element=\"bfbda98a-a6f8-4a20-a105-e6815be596ff\")>,\n",
       " <selenium.webdriver.remote.webelement.WebElement (session=\"5305f54fbe6b9b40c0546809d6dfaa5b\", element=\"b348ff58-4914-4d58-bc32-6d4c7f96d43a\")>]"
      ]
     },
     "execution_count": 149,
     "metadata": {},
     "output_type": "execute_result"
    }
   ],
   "source": [
    "titles_tag=driver.find_elements_by_xpath(\"//a[@class='title fw500 ellipsis']\")\n",
    "titles_tag[0:9]"
   ]
  },
  {
   "cell_type": "code",
   "execution_count": 150,
   "metadata": {},
   "outputs": [
    {
     "data": {
      "text/plain": [
       "['Data Scientist/Data Analyst-immediate',\n",
       " 'Data Scientist - Python/ MATLAB/ Machine Learning Algorithms',\n",
       " 'Lead Data Scientist - Machine Learning/ Data Mining',\n",
       " 'Data Scientist - Machine Learning (Commerce BU)',\n",
       " 'Data Scientist',\n",
       " 'Opening For Sr. Data Scientist @ Tech Mahindra',\n",
       " 'Opening For Sr. Data Scientist @ Tech Mahindra',\n",
       " 'Senior Data Scientist - NLP/ Python/ R',\n",
       " 'Senior Data Scientist | CES IT LTD | CMMI Level 5']"
      ]
     },
     "execution_count": 150,
     "metadata": {},
     "output_type": "execute_result"
    }
   ],
   "source": [
    "for i in titles_tag:\n",
    "    job_title.append(i.text)\n",
    "job_title[0:9]"
   ]
  },
  {
   "cell_type": "code",
   "execution_count": 151,
   "metadata": {},
   "outputs": [
    {
     "data": {
      "text/plain": [
       "[<selenium.webdriver.remote.webelement.WebElement (session=\"5305f54fbe6b9b40c0546809d6dfaa5b\", element=\"81de0051-11f4-46c7-80ae-21b7ea75e580\")>,\n",
       " <selenium.webdriver.remote.webelement.WebElement (session=\"5305f54fbe6b9b40c0546809d6dfaa5b\", element=\"3d3b8f9d-88ac-446f-a483-82ea5292fb4a\")>,\n",
       " <selenium.webdriver.remote.webelement.WebElement (session=\"5305f54fbe6b9b40c0546809d6dfaa5b\", element=\"1defc4f6-47ad-46cd-97c0-d8d54543b9c9\")>,\n",
       " <selenium.webdriver.remote.webelement.WebElement (session=\"5305f54fbe6b9b40c0546809d6dfaa5b\", element=\"d5b20a2d-2843-4ed1-9111-0339b6f09677\")>,\n",
       " <selenium.webdriver.remote.webelement.WebElement (session=\"5305f54fbe6b9b40c0546809d6dfaa5b\", element=\"d4107fdf-9165-4142-a4f7-c1090d25288b\")>,\n",
       " <selenium.webdriver.remote.webelement.WebElement (session=\"5305f54fbe6b9b40c0546809d6dfaa5b\", element=\"e8c5bb97-e654-4427-99cb-15fd03a39ad7\")>,\n",
       " <selenium.webdriver.remote.webelement.WebElement (session=\"5305f54fbe6b9b40c0546809d6dfaa5b\", element=\"5be21fd4-4515-42ff-be7c-631a783962c5\")>,\n",
       " <selenium.webdriver.remote.webelement.WebElement (session=\"5305f54fbe6b9b40c0546809d6dfaa5b\", element=\"52e2ac66-2498-4dae-a18e-0b5b9dd02e2e\")>,\n",
       " <selenium.webdriver.remote.webelement.WebElement (session=\"5305f54fbe6b9b40c0546809d6dfaa5b\", element=\"dbbd5b57-7735-41c5-a61e-563939f0dc43\")>]"
      ]
     },
     "execution_count": 151,
     "metadata": {},
     "output_type": "execute_result"
    }
   ],
   "source": [
    "company_tag=driver.find_elements_by_xpath(\"//a[@class='subTitle ellipsis fleft']\")\n",
    "company_tag[0:9]"
   ]
  },
  {
   "cell_type": "code",
   "execution_count": 152,
   "metadata": {},
   "outputs": [
    {
     "data": {
      "text/plain": [
       "['Inflexion Analytix Private Limited',\n",
       " 'Wrackle Technologies Pvt Ltd',\n",
       " 'Wrackle Technologies Pvt Ltd',\n",
       " 'BLUE YONDER INDIA PRIVATE LIMITED',\n",
       " 'Atos Syntel Private Limited',\n",
       " 'Tech Mahindra Ltd.',\n",
       " 'Tech Mahindra Ltd.',\n",
       " 'AVI Consulting LLP',\n",
       " 'CES Ltd.']"
      ]
     },
     "execution_count": 152,
     "metadata": {},
     "output_type": "execute_result"
    }
   ],
   "source": [
    "for i in company_tag:\n",
    "    company_names.append(i.text)\n",
    "company_names[0:9]"
   ]
  },
  {
   "cell_type": "code",
   "execution_count": 153,
   "metadata": {},
   "outputs": [
    {
     "data": {
      "text/plain": [
       "[<selenium.webdriver.remote.webelement.WebElement (session=\"5305f54fbe6b9b40c0546809d6dfaa5b\", element=\"cfd27c2f-6f72-46b8-853c-1ebad8a17849\")>,\n",
       " <selenium.webdriver.remote.webelement.WebElement (session=\"5305f54fbe6b9b40c0546809d6dfaa5b\", element=\"26dfdfce-c1e9-43ed-8398-1f97c7ed65e8\")>,\n",
       " <selenium.webdriver.remote.webelement.WebElement (session=\"5305f54fbe6b9b40c0546809d6dfaa5b\", element=\"366a1445-0c6b-466a-bcaa-6b577ec59e1a\")>,\n",
       " <selenium.webdriver.remote.webelement.WebElement (session=\"5305f54fbe6b9b40c0546809d6dfaa5b\", element=\"da167f7e-d220-4d4f-9729-17a7637ebec0\")>,\n",
       " <selenium.webdriver.remote.webelement.WebElement (session=\"5305f54fbe6b9b40c0546809d6dfaa5b\", element=\"8176e93a-3c3e-4ce2-b532-3ae9931c28c5\")>,\n",
       " <selenium.webdriver.remote.webelement.WebElement (session=\"5305f54fbe6b9b40c0546809d6dfaa5b\", element=\"de46ccfc-d39d-4f78-a9e5-712a22da2005\")>,\n",
       " <selenium.webdriver.remote.webelement.WebElement (session=\"5305f54fbe6b9b40c0546809d6dfaa5b\", element=\"2899974d-8c97-4476-9f03-4840f1c4ec30\")>,\n",
       " <selenium.webdriver.remote.webelement.WebElement (session=\"5305f54fbe6b9b40c0546809d6dfaa5b\", element=\"b6c19a19-9b46-417f-ab4e-074502366565\")>,\n",
       " <selenium.webdriver.remote.webelement.WebElement (session=\"5305f54fbe6b9b40c0546809d6dfaa5b\", element=\"78323b1b-e779-4e8c-bf0b-668d7cce2788\")>]"
      ]
     },
     "execution_count": 153,
     "metadata": {},
     "output_type": "execute_result"
    }
   ],
   "source": [
    "loc_tag=driver.find_elements_by_xpath(\"//li[@class='fleft grey-text br2 placeHolderLi location']/span[1]\")\n",
    "loc_tag[0:9]"
   ]
  },
  {
   "cell_type": "code",
   "execution_count": 154,
   "metadata": {},
   "outputs": [
    {
     "data": {
      "text/plain": [
       "['Chennai, Pune, Bengaluru, Hyderabad',\n",
       " 'Bengaluru',\n",
       " 'Bengaluru',\n",
       " 'Bengaluru',\n",
       " 'Chennai, Pune, Mumbai, Bengaluru',\n",
       " 'Pune, Bengaluru',\n",
       " 'Pune, Bengaluru',\n",
       " 'Bengaluru, Hyderabad',\n",
       " 'Chennai, Pune, Delhi NCR, Mumbai, Bengaluru, Hyderabad, Kolkata']"
      ]
     },
     "execution_count": 154,
     "metadata": {},
     "output_type": "execute_result"
    }
   ],
   "source": [
    "for i in loc_tag:\n",
    "    locations_list.append(i.text)\n",
    "locations_list[0:9]"
   ]
  },
  {
   "cell_type": "code",
   "execution_count": 155,
   "metadata": {},
   "outputs": [
    {
     "data": {
      "text/plain": [
       "[<selenium.webdriver.remote.webelement.WebElement (session=\"5305f54fbe6b9b40c0546809d6dfaa5b\", element=\"5e7c48b6-1a58-469f-929f-0e5559ab2dba\")>,\n",
       " <selenium.webdriver.remote.webelement.WebElement (session=\"5305f54fbe6b9b40c0546809d6dfaa5b\", element=\"8b04a4ed-f91a-471d-b6be-c9b9aae50d85\")>,\n",
       " <selenium.webdriver.remote.webelement.WebElement (session=\"5305f54fbe6b9b40c0546809d6dfaa5b\", element=\"902abc08-b756-437b-877e-69b0d195e1f7\")>,\n",
       " <selenium.webdriver.remote.webelement.WebElement (session=\"5305f54fbe6b9b40c0546809d6dfaa5b\", element=\"978ee102-3a36-4eab-b764-8510943b1f90\")>,\n",
       " <selenium.webdriver.remote.webelement.WebElement (session=\"5305f54fbe6b9b40c0546809d6dfaa5b\", element=\"a960afb7-23cb-45db-bd2d-163e0c7c3da4\")>,\n",
       " <selenium.webdriver.remote.webelement.WebElement (session=\"5305f54fbe6b9b40c0546809d6dfaa5b\", element=\"90646068-abda-4933-b433-7d9f7b3b15c7\")>,\n",
       " <selenium.webdriver.remote.webelement.WebElement (session=\"5305f54fbe6b9b40c0546809d6dfaa5b\", element=\"fc693e89-5249-45ce-97dd-f17b68929646\")>,\n",
       " <selenium.webdriver.remote.webelement.WebElement (session=\"5305f54fbe6b9b40c0546809d6dfaa5b\", element=\"541dd4c1-0084-432e-9933-acdd98ec1155\")>,\n",
       " <selenium.webdriver.remote.webelement.WebElement (session=\"5305f54fbe6b9b40c0546809d6dfaa5b\", element=\"6896340c-f506-4a2e-ab41-d534824f65e3\")>]"
      ]
     },
     "execution_count": 155,
     "metadata": {},
     "output_type": "execute_result"
    }
   ],
   "source": [
    "exp_tag=driver.find_elements_by_xpath(\"//li[@class='fleft grey-text br2 placeHolderLi experience']/span[1]\")\n",
    "exp_tag[0:9]"
   ]
  },
  {
   "cell_type": "code",
   "execution_count": 156,
   "metadata": {},
   "outputs": [
    {
     "data": {
      "text/plain": [
       "['1-2 Yrs',\n",
       " '3-8 Yrs',\n",
       " '6-11 Yrs',\n",
       " '2-7 Yrs',\n",
       " '12-18 Yrs',\n",
       " '12-20 Yrs',\n",
       " '12-20 Yrs',\n",
       " '4-9 Yrs',\n",
       " '2-7 Yrs']"
      ]
     },
     "execution_count": 156,
     "metadata": {},
     "output_type": "execute_result"
    }
   ],
   "source": [
    "for i in exp_tag:\n",
    "     experience_list.append(i.text)\n",
    "experience_list[0:9]"
   ]
  },
  {
   "cell_type": "code",
   "execution_count": 159,
   "metadata": {},
   "outputs": [],
   "source": [
    "import pandas as pd\n",
    "DataScientist=pd.DataFrame()\n",
    "DataScientist['JOB_NAME']=job_title[0:9]\n",
    "DataScientist['COMPANY']=company_names[0:9]\n",
    "DataScientist['JOB_LOCATION']=locations_list[0:9]\n",
    "DataScientist['EXPERIENCE']=experience_list[0:9]"
   ]
  },
  {
   "cell_type": "code",
   "execution_count": 160,
   "metadata": {
    "scrolled": true
   },
   "outputs": [
    {
     "data": {
      "text/html": [
       "<div>\n",
       "<style scoped>\n",
       "    .dataframe tbody tr th:only-of-type {\n",
       "        vertical-align: middle;\n",
       "    }\n",
       "\n",
       "    .dataframe tbody tr th {\n",
       "        vertical-align: top;\n",
       "    }\n",
       "\n",
       "    .dataframe thead th {\n",
       "        text-align: right;\n",
       "    }\n",
       "</style>\n",
       "<table border=\"1\" class=\"dataframe\">\n",
       "  <thead>\n",
       "    <tr style=\"text-align: right;\">\n",
       "      <th></th>\n",
       "      <th>JOB_NAME</th>\n",
       "      <th>COMPANY</th>\n",
       "      <th>JOB_LOCATION</th>\n",
       "      <th>EXPERIENCE</th>\n",
       "    </tr>\n",
       "  </thead>\n",
       "  <tbody>\n",
       "    <tr>\n",
       "      <th>0</th>\n",
       "      <td>Data Scientist/Data Analyst-immediate</td>\n",
       "      <td>Inflexion Analytix Private Limited</td>\n",
       "      <td>Chennai, Pune, Bengaluru, Hyderabad</td>\n",
       "      <td>1-2 Yrs</td>\n",
       "    </tr>\n",
       "    <tr>\n",
       "      <th>1</th>\n",
       "      <td>Data Scientist - Python/ MATLAB/ Machine Learn...</td>\n",
       "      <td>Wrackle Technologies Pvt Ltd</td>\n",
       "      <td>Bengaluru</td>\n",
       "      <td>3-8 Yrs</td>\n",
       "    </tr>\n",
       "    <tr>\n",
       "      <th>2</th>\n",
       "      <td>Lead Data Scientist - Machine Learning/ Data M...</td>\n",
       "      <td>Wrackle Technologies Pvt Ltd</td>\n",
       "      <td>Bengaluru</td>\n",
       "      <td>6-11 Yrs</td>\n",
       "    </tr>\n",
       "    <tr>\n",
       "      <th>3</th>\n",
       "      <td>Data Scientist - Machine Learning (Commerce BU)</td>\n",
       "      <td>BLUE YONDER INDIA PRIVATE LIMITED</td>\n",
       "      <td>Bengaluru</td>\n",
       "      <td>2-7 Yrs</td>\n",
       "    </tr>\n",
       "    <tr>\n",
       "      <th>4</th>\n",
       "      <td>Data Scientist</td>\n",
       "      <td>Atos Syntel Private Limited</td>\n",
       "      <td>Chennai, Pune, Mumbai, Bengaluru</td>\n",
       "      <td>12-18 Yrs</td>\n",
       "    </tr>\n",
       "    <tr>\n",
       "      <th>5</th>\n",
       "      <td>Opening For Sr. Data Scientist @ Tech Mahindra</td>\n",
       "      <td>Tech Mahindra Ltd.</td>\n",
       "      <td>Pune, Bengaluru</td>\n",
       "      <td>12-20 Yrs</td>\n",
       "    </tr>\n",
       "    <tr>\n",
       "      <th>6</th>\n",
       "      <td>Opening For Sr. Data Scientist @ Tech Mahindra</td>\n",
       "      <td>Tech Mahindra Ltd.</td>\n",
       "      <td>Pune, Bengaluru</td>\n",
       "      <td>12-20 Yrs</td>\n",
       "    </tr>\n",
       "    <tr>\n",
       "      <th>7</th>\n",
       "      <td>Senior Data Scientist - NLP/ Python/ R</td>\n",
       "      <td>AVI Consulting LLP</td>\n",
       "      <td>Bengaluru, Hyderabad</td>\n",
       "      <td>4-9 Yrs</td>\n",
       "    </tr>\n",
       "    <tr>\n",
       "      <th>8</th>\n",
       "      <td>Senior Data Scientist | CES IT LTD | CMMI Level 5</td>\n",
       "      <td>CES Ltd.</td>\n",
       "      <td>Chennai, Pune, Delhi NCR, Mumbai, Bengaluru, H...</td>\n",
       "      <td>2-7 Yrs</td>\n",
       "    </tr>\n",
       "    <tr>\n",
       "      <th>9</th>\n",
       "      <td>Sr Data Scientist</td>\n",
       "      <td>Concentrix Daksh Services India Private Limited.</td>\n",
       "      <td>Pune, Mumbai, Bengaluru, Gurgaon, Kolkata</td>\n",
       "      <td>4-9 Yrs</td>\n",
       "    </tr>\n",
       "  </tbody>\n",
       "</table>\n",
       "</div>"
      ],
      "text/plain": [
       "                                            JOB_NAME  \\\n",
       "0              Data Scientist/Data Analyst-immediate   \n",
       "1  Data Scientist - Python/ MATLAB/ Machine Learn...   \n",
       "2  Lead Data Scientist - Machine Learning/ Data M...   \n",
       "3    Data Scientist - Machine Learning (Commerce BU)   \n",
       "4                                     Data Scientist   \n",
       "5     Opening For Sr. Data Scientist @ Tech Mahindra   \n",
       "6     Opening For Sr. Data Scientist @ Tech Mahindra   \n",
       "7             Senior Data Scientist - NLP/ Python/ R   \n",
       "8  Senior Data Scientist | CES IT LTD | CMMI Level 5   \n",
       "9                                  Sr Data Scientist   \n",
       "\n",
       "                                            COMPANY  \\\n",
       "0                Inflexion Analytix Private Limited   \n",
       "1                      Wrackle Technologies Pvt Ltd   \n",
       "2                      Wrackle Technologies Pvt Ltd   \n",
       "3                 BLUE YONDER INDIA PRIVATE LIMITED   \n",
       "4                       Atos Syntel Private Limited   \n",
       "5                                Tech Mahindra Ltd.   \n",
       "6                                Tech Mahindra Ltd.   \n",
       "7                                AVI Consulting LLP   \n",
       "8                                          CES Ltd.   \n",
       "9  Concentrix Daksh Services India Private Limited.   \n",
       "\n",
       "                                        JOB_LOCATION EXPERIENCE  \n",
       "0                Chennai, Pune, Bengaluru, Hyderabad    1-2 Yrs  \n",
       "1                                          Bengaluru    3-8 Yrs  \n",
       "2                                          Bengaluru   6-11 Yrs  \n",
       "3                                          Bengaluru    2-7 Yrs  \n",
       "4                   Chennai, Pune, Mumbai, Bengaluru  12-18 Yrs  \n",
       "5                                    Pune, Bengaluru  12-20 Yrs  \n",
       "6                                    Pune, Bengaluru  12-20 Yrs  \n",
       "7                               Bengaluru, Hyderabad    4-9 Yrs  \n",
       "8  Chennai, Pune, Delhi NCR, Mumbai, Bengaluru, H...    2-7 Yrs  \n",
       "9          Pune, Mumbai, Bengaluru, Gurgaon, Kolkata    4-9 Yrs  "
      ]
     },
     "execution_count": 160,
     "metadata": {},
     "output_type": "execute_result"
    }
   ],
   "source": [
    "DataScientist"
   ]
  },
  {
   "cell_type": "code",
   "execution_count": null,
   "metadata": {},
   "outputs": [],
   "source": []
  },
  {
   "cell_type": "markdown",
   "metadata": {},
   "source": [
    "#3question"
   ]
  },
  {
   "cell_type": "code",
   "execution_count": 87,
   "metadata": {},
   "outputs": [],
   "source": [
    "import selenium\n",
    "import pandas as pd\n",
    "from selenium import webdriver"
   ]
  },
  {
   "cell_type": "code",
   "execution_count": 88,
   "metadata": {},
   "outputs": [],
   "source": [
    "driver=webdriver.Chrome(\"Desktop/chromedriver.exe\")"
   ]
  },
  {
   "cell_type": "code",
   "execution_count": 89,
   "metadata": {},
   "outputs": [],
   "source": [
    "driver.get(\"https://www.naukri.com/\")"
   ]
  },
  {
   "cell_type": "code",
   "execution_count": 90,
   "metadata": {},
   "outputs": [],
   "source": [
    "search_job=driver.find_element_by_id('qsb-keyword-sugg')\n",
    "search_job.send_keys(\"Data Scientist\")\n",
    "search_loc=driver.find_element_by_xpath(\"//input[@id='qsb-location-sugg']\")\n",
    "search_loc.send_keys(\"Delhi\")"
   ]
  },
  {
   "cell_type": "code",
   "execution_count": 91,
   "metadata": {},
   "outputs": [],
   "source": [
    "search_btn=driver.find_element_by_xpath(\"//div[@class='search-btn']\")\n",
    "search_btn.click()"
   ]
  },
  {
   "cell_type": "code",
   "execution_count": 85,
   "metadata": {},
   "outputs": [],
   "source": [
    "url=\"https://www.naukri.com/data-scientistdelhi-jobs?k=data%20scientistdelhi\""
   ]
  },
  {
   "cell_type": "code",
   "execution_count": 84,
   "metadata": {},
   "outputs": [],
   "source": [
    "driver.get(url)"
   ]
  },
  {
   "cell_type": "code",
   "execution_count": 92,
   "metadata": {},
   "outputs": [],
   "source": [
    "job_title=[]\n",
    "company_names=[]\n",
    "locations_list=[]\n",
    "experience_list=[]"
   ]
  },
  {
   "cell_type": "code",
   "execution_count": 93,
   "metadata": {},
   "outputs": [
    {
     "data": {
      "text/plain": [
       "[<selenium.webdriver.remote.webelement.WebElement (session=\"92a452e63623b31d10b4d746a91e9a61\", element=\"8d178cc5-5e90-4b27-bf8d-5202adcb89e4\")>,\n",
       " <selenium.webdriver.remote.webelement.WebElement (session=\"92a452e63623b31d10b4d746a91e9a61\", element=\"23f74a40-0c01-4494-9cdd-0214dc5ddf4f\")>,\n",
       " <selenium.webdriver.remote.webelement.WebElement (session=\"92a452e63623b31d10b4d746a91e9a61\", element=\"712707a7-2295-42a1-961c-a979e7b28359\")>,\n",
       " <selenium.webdriver.remote.webelement.WebElement (session=\"92a452e63623b31d10b4d746a91e9a61\", element=\"763b2b33-ac30-4833-b620-a1c93f15566a\")>]"
      ]
     },
     "execution_count": 93,
     "metadata": {},
     "output_type": "execute_result"
    }
   ],
   "source": [
    "titles_tag=driver.find_elements_by_xpath(\"//a[@class='title fw500 ellipsis']\")\n",
    "titles_tag[0:4]"
   ]
  },
  {
   "cell_type": "code",
   "execution_count": 94,
   "metadata": {},
   "outputs": [
    {
     "data": {
      "text/plain": [
       "['Senior Data Scientist | CES IT LTD | CMMI Level 5',\n",
       " 'Sr Data Scientist',\n",
       " 'Associate Data Scientist | 0-2 Years | Gurgaon',\n",
       " 'Data Scientist']"
      ]
     },
     "execution_count": 94,
     "metadata": {},
     "output_type": "execute_result"
    }
   ],
   "source": [
    "for i in titles_tag:\n",
    "    job_title.append(i.text)\n",
    "job_title[0:4]"
   ]
  },
  {
   "cell_type": "code",
   "execution_count": 96,
   "metadata": {},
   "outputs": [
    {
     "data": {
      "text/plain": [
       "[<selenium.webdriver.remote.webelement.WebElement (session=\"92a452e63623b31d10b4d746a91e9a61\", element=\"0e70dc9a-54e2-4784-a946-e488b39a8428\")>,\n",
       " <selenium.webdriver.remote.webelement.WebElement (session=\"92a452e63623b31d10b4d746a91e9a61\", element=\"cea45f6e-67f0-471e-9758-dcc5e6ec0c8f\")>,\n",
       " <selenium.webdriver.remote.webelement.WebElement (session=\"92a452e63623b31d10b4d746a91e9a61\", element=\"f8d9a6e8-3dc9-418d-9836-84f7c1966b40\")>,\n",
       " <selenium.webdriver.remote.webelement.WebElement (session=\"92a452e63623b31d10b4d746a91e9a61\", element=\"54d7f497-114f-4007-a084-873d647776ca\")>]"
      ]
     },
     "execution_count": 96,
     "metadata": {},
     "output_type": "execute_result"
    }
   ],
   "source": [
    "company_tag=driver.find_elements_by_xpath(\"//a[@class='subTitle ellipsis fleft']\")\n",
    "company_tag[0:4]"
   ]
  },
  {
   "cell_type": "code",
   "execution_count": 97,
   "metadata": {},
   "outputs": [
    {
     "data": {
      "text/plain": [
       "['CES Ltd.',\n",
       " 'Concentrix Daksh Services India Private Limited.',\n",
       " 'Xtage Technologies Private Limited',\n",
       " 'IBM India Pvt. Limited']"
      ]
     },
     "execution_count": 97,
     "metadata": {},
     "output_type": "execute_result"
    }
   ],
   "source": [
    "for i in company_tag:\n",
    "    company_names.append(i.text)\n",
    "company_names[0:4]"
   ]
  },
  {
   "cell_type": "code",
   "execution_count": 98,
   "metadata": {},
   "outputs": [
    {
     "data": {
      "text/plain": [
       "[<selenium.webdriver.remote.webelement.WebElement (session=\"92a452e63623b31d10b4d746a91e9a61\", element=\"d3adda9a-f04d-475c-9a71-56bd9d9e3759\")>,\n",
       " <selenium.webdriver.remote.webelement.WebElement (session=\"92a452e63623b31d10b4d746a91e9a61\", element=\"9e27f291-eadc-4dd0-a9f8-c47c902ebbb4\")>,\n",
       " <selenium.webdriver.remote.webelement.WebElement (session=\"92a452e63623b31d10b4d746a91e9a61\", element=\"36de4075-f5cf-444d-857c-013a1fcd6f90\")>,\n",
       " <selenium.webdriver.remote.webelement.WebElement (session=\"92a452e63623b31d10b4d746a91e9a61\", element=\"1ecc424f-ebb6-4f56-b060-7a1ff7f4aef1\")>]"
      ]
     },
     "execution_count": 98,
     "metadata": {},
     "output_type": "execute_result"
    }
   ],
   "source": [
    "loc_tag=driver.find_elements_by_xpath(\"//li[@class='fleft grey-text br2 placeHolderLi location']/span[1]\")\n",
    "loc_tag[0:4]"
   ]
  },
  {
   "cell_type": "code",
   "execution_count": 100,
   "metadata": {},
   "outputs": [
    {
     "data": {
      "text/plain": [
       "['Chennai, Pune, Delhi NCR, Mumbai, Bengaluru, Hyderabad, Kolkata',\n",
       " 'Pune, Mumbai, Bengaluru, Gurgaon, Kolkata',\n",
       " 'Delhi NCR, Gurgaon',\n",
       " 'Gurgaon Gurugram']"
      ]
     },
     "execution_count": 100,
     "metadata": {},
     "output_type": "execute_result"
    }
   ],
   "source": [
    "for i in loc_tag:\n",
    "    locations_list.append(i.text)\n",
    "locations_list[0:4]"
   ]
  },
  {
   "cell_type": "code",
   "execution_count": 101,
   "metadata": {},
   "outputs": [
    {
     "data": {
      "text/plain": [
       "[<selenium.webdriver.remote.webelement.WebElement (session=\"92a452e63623b31d10b4d746a91e9a61\", element=\"21295e40-b37d-4d1f-9a52-2bf22f028527\")>,\n",
       " <selenium.webdriver.remote.webelement.WebElement (session=\"92a452e63623b31d10b4d746a91e9a61\", element=\"19545d15-ad5f-4342-9acc-de7c0e51b5ba\")>,\n",
       " <selenium.webdriver.remote.webelement.WebElement (session=\"92a452e63623b31d10b4d746a91e9a61\", element=\"0627db55-3392-45fe-8b5c-3cb8f3050912\")>,\n",
       " <selenium.webdriver.remote.webelement.WebElement (session=\"92a452e63623b31d10b4d746a91e9a61\", element=\"dd64b660-1eb1-4974-b0f0-6f966e2a6cef\")>]"
      ]
     },
     "execution_count": 101,
     "metadata": {},
     "output_type": "execute_result"
    }
   ],
   "source": [
    "exp_tag=driver.find_elements_by_xpath(\"//li[@class='fleft grey-text br2 placeHolderLi experience']/span[1]\")\n",
    "exp_tag[0:4]"
   ]
  },
  {
   "cell_type": "code",
   "execution_count": 102,
   "metadata": {},
   "outputs": [
    {
     "data": {
      "text/plain": [
       "['2-7 Yrs', '4-9 Yrs', '0-2 Yrs', '6-8 Yrs']"
      ]
     },
     "execution_count": 102,
     "metadata": {},
     "output_type": "execute_result"
    }
   ],
   "source": [
    "for i in exp_tag:\n",
    "    experience_list.append(i.text)\n",
    "experience_list[0:4]"
   ]
  },
  {
   "cell_type": "code",
   "execution_count": 107,
   "metadata": {},
   "outputs": [],
   "source": [
    "import pandas as pd\n",
    "DataScientist=pd.DataFrame()\n",
    "DataScientist['JOB_NAME']=job_title[0:9]\n",
    "DataScientist['COMPANY']=company_names[0:9]\n",
    "DataScientist['JOB_LOCATION']=locations_list[0:9]\n",
    "DataScientist['EXPERIENCE']=experience_list[0:9]"
   ]
  },
  {
   "cell_type": "code",
   "execution_count": 108,
   "metadata": {},
   "outputs": [
    {
     "data": {
      "text/html": [
       "<div>\n",
       "<style scoped>\n",
       "    .dataframe tbody tr th:only-of-type {\n",
       "        vertical-align: middle;\n",
       "    }\n",
       "\n",
       "    .dataframe tbody tr th {\n",
       "        vertical-align: top;\n",
       "    }\n",
       "\n",
       "    .dataframe thead th {\n",
       "        text-align: right;\n",
       "    }\n",
       "</style>\n",
       "<table border=\"1\" class=\"dataframe\">\n",
       "  <thead>\n",
       "    <tr style=\"text-align: right;\">\n",
       "      <th></th>\n",
       "      <th>JOB_NAME</th>\n",
       "      <th>COMPANY</th>\n",
       "      <th>JOB_LOCATION</th>\n",
       "      <th>EXPERIENCE</th>\n",
       "    </tr>\n",
       "  </thead>\n",
       "  <tbody>\n",
       "    <tr>\n",
       "      <th>0</th>\n",
       "      <td>Senior Data Scientist | CES IT LTD | CMMI Level 5</td>\n",
       "      <td>CES Ltd.</td>\n",
       "      <td>Chennai, Pune, Delhi NCR, Mumbai, Bengaluru, H...</td>\n",
       "      <td>2-7 Yrs</td>\n",
       "    </tr>\n",
       "    <tr>\n",
       "      <th>1</th>\n",
       "      <td>Sr Data Scientist</td>\n",
       "      <td>Concentrix Daksh Services India Private Limited.</td>\n",
       "      <td>Pune, Mumbai, Bengaluru, Gurgaon, Kolkata</td>\n",
       "      <td>4-9 Yrs</td>\n",
       "    </tr>\n",
       "    <tr>\n",
       "      <th>2</th>\n",
       "      <td>Associate Data Scientist | 0-2 Years | Gurgaon</td>\n",
       "      <td>Xtage Technologies Private Limited</td>\n",
       "      <td>Delhi NCR, Gurgaon</td>\n",
       "      <td>0-2 Yrs</td>\n",
       "    </tr>\n",
       "    <tr>\n",
       "      <th>3</th>\n",
       "      <td>Data Scientist</td>\n",
       "      <td>IBM India Pvt. Limited</td>\n",
       "      <td>Gurgaon Gurugram</td>\n",
       "      <td>6-8 Yrs</td>\n",
       "    </tr>\n",
       "    <tr>\n",
       "      <th>4</th>\n",
       "      <td>Data Scientist</td>\n",
       "      <td>IBM India Pvt. Limited</td>\n",
       "      <td>Gurgaon Gurugram</td>\n",
       "      <td>4-8 Yrs</td>\n",
       "    </tr>\n",
       "    <tr>\n",
       "      <th>5</th>\n",
       "      <td>Senior Data Scientist (Remote / Work from Home)</td>\n",
       "      <td>Wallethub</td>\n",
       "      <td>Chennai, Delhi NCR, Bengaluru</td>\n",
       "      <td>10-20 Yrs</td>\n",
       "    </tr>\n",
       "    <tr>\n",
       "      <th>6</th>\n",
       "      <td>Analyst/Senior Analyst - DATA Scientist</td>\n",
       "      <td>Tredence</td>\n",
       "      <td>Chennai, Delhi NCR, Bengaluru</td>\n",
       "      <td>2-4 Yrs</td>\n",
       "    </tr>\n",
       "    <tr>\n",
       "      <th>7</th>\n",
       "      <td>Adv Data Scientist - CSP</td>\n",
       "      <td>MatrikonOPC</td>\n",
       "      <td>Greater Noida, Bengaluru</td>\n",
       "      <td>2-5 Yrs</td>\n",
       "    </tr>\n",
       "    <tr>\n",
       "      <th>8</th>\n",
       "      <td>Senior/Lead Data Scientist</td>\n",
       "      <td>Editorialist YX India Private Limited</td>\n",
       "      <td>Delhi NCR, Gurgaon</td>\n",
       "      <td>4-7 Yrs</td>\n",
       "    </tr>\n",
       "    <tr>\n",
       "      <th>9</th>\n",
       "      <td>Senior Data Scientist</td>\n",
       "      <td>Chegg India Pvt Ltd</td>\n",
       "      <td>Delhi</td>\n",
       "      <td>4-8 Yrs</td>\n",
       "    </tr>\n",
       "  </tbody>\n",
       "</table>\n",
       "</div>"
      ],
      "text/plain": [
       "                                            JOB_NAME  \\\n",
       "0  Senior Data Scientist | CES IT LTD | CMMI Level 5   \n",
       "1                                  Sr Data Scientist   \n",
       "2     Associate Data Scientist | 0-2 Years | Gurgaon   \n",
       "3                                     Data Scientist   \n",
       "4                                     Data Scientist   \n",
       "5    Senior Data Scientist (Remote / Work from Home)   \n",
       "6            Analyst/Senior Analyst - DATA Scientist   \n",
       "7                           Adv Data Scientist - CSP   \n",
       "8                         Senior/Lead Data Scientist   \n",
       "9                              Senior Data Scientist   \n",
       "\n",
       "                                            COMPANY  \\\n",
       "0                                          CES Ltd.   \n",
       "1  Concentrix Daksh Services India Private Limited.   \n",
       "2                Xtage Technologies Private Limited   \n",
       "3                            IBM India Pvt. Limited   \n",
       "4                            IBM India Pvt. Limited   \n",
       "5                                         Wallethub   \n",
       "6                                          Tredence   \n",
       "7                                       MatrikonOPC   \n",
       "8             Editorialist YX India Private Limited   \n",
       "9                               Chegg India Pvt Ltd   \n",
       "\n",
       "                                        JOB_LOCATION EXPERIENCE  \n",
       "0  Chennai, Pune, Delhi NCR, Mumbai, Bengaluru, H...    2-7 Yrs  \n",
       "1          Pune, Mumbai, Bengaluru, Gurgaon, Kolkata    4-9 Yrs  \n",
       "2                                 Delhi NCR, Gurgaon    0-2 Yrs  \n",
       "3                                   Gurgaon Gurugram    6-8 Yrs  \n",
       "4                                   Gurgaon Gurugram    4-8 Yrs  \n",
       "5                      Chennai, Delhi NCR, Bengaluru  10-20 Yrs  \n",
       "6                      Chennai, Delhi NCR, Bengaluru    2-4 Yrs  \n",
       "7                           Greater Noida, Bengaluru    2-5 Yrs  \n",
       "8                                 Delhi NCR, Gurgaon    4-7 Yrs  \n",
       "9                                              Delhi    4-8 Yrs  "
      ]
     },
     "execution_count": 108,
     "metadata": {},
     "output_type": "execute_result"
    }
   ],
   "source": [
    "DataScientist"
   ]
  },
  {
   "cell_type": "code",
   "execution_count": null,
   "metadata": {},
   "outputs": [],
   "source": []
  },
  {
   "cell_type": "markdown",
   "metadata": {},
   "source": [
    "#question 7"
   ]
  },
  {
   "cell_type": "code",
   "execution_count": 35,
   "metadata": {},
   "outputs": [],
   "source": [
    "import pandas as pd\n",
    "from bs4 import BeautifulSoup\n",
    "import requests\n",
    "import selenium\n",
    "from selenium import webdriver\n",
    "import time"
   ]
  },
  {
   "cell_type": "code",
   "execution_count": 36,
   "metadata": {},
   "outputs": [],
   "source": [
    "driver=webdriver.Chrome(\"Desktop/chromedriver.exe\")"
   ]
  },
  {
   "cell_type": "code",
   "execution_count": 37,
   "metadata": {},
   "outputs": [],
   "source": [
    "driver.get(\"https://www.flipkart.com/apple-iphone-11-black-64-gb-includes-earpods-power-adapter/p/itm0f37c2240b217?pid=MOBFKCTSVZAXUHGR&lid=LSTMOBFKCTSVZAXUHGREPBFGI&marketplace\")"
   ]
  },
  {
   "cell_type": "code",
   "execution_count": 38,
   "metadata": {},
   "outputs": [],
   "source": [
    "url=\"https://www.flipkart.com/apple-iphone-11-black-64-gb-includes-earpods-power-adapter/p/itm0f37c2240b217?pid=MOBFKCTSVZAXUHGR&lid=LSTMOBFKCTSVZAXUHGREPBFGI&marketplace\""
   ]
  },
  {
   "cell_type": "code",
   "execution_count": 39,
   "metadata": {},
   "outputs": [],
   "source": [
    "driver.get(url)"
   ]
  },
  {
   "cell_type": "code",
   "execution_count": 34,
   "metadata": {},
   "outputs": [],
   "source": [
    "Rating=[]\n",
    "Review_summary=[]\n",
    "full_review=[]"
   ]
  },
  {
   "cell_type": "code",
   "execution_count": 74,
   "metadata": {},
   "outputs": [],
   "source": [
    "rate_tag=driver.find_elements_by_xpath(\"//div[@class='_3LWZlK _1BLPMq']\")\n",
    "rev_tag=driver.find_elements_by_xpath(\"//p[@class='_2-N8zT']\")\n",
    "full_tag=driver.find_elements_by_xpath(\"//div[@class='t-ZTKy']\")"
   ]
  },
  {
   "cell_type": "code",
   "execution_count": 75,
   "metadata": {},
   "outputs": [
    {
     "data": {
      "text/plain": [
       "['3', '4', '4', '5', '5', '5', '3', '4']"
      ]
     },
     "execution_count": 75,
     "metadata": {},
     "output_type": "execute_result"
    }
   ],
   "source": [
    "for i in rate_tag:\n",
    "    Rating.append(i.text)\n",
    "Rating[0:10]"
   ]
  },
  {
   "cell_type": "code",
   "execution_count": 76,
   "metadata": {},
   "outputs": [
    {
     "data": {
      "text/plain": [
       "['Perfect product!',\n",
       " 'Great product',\n",
       " 'Highly recommended',\n",
       " '',\n",
       " '',\n",
       " '',\n",
       " '',\n",
       " '',\n",
       " '',\n",
       " '']"
      ]
     },
     "execution_count": 76,
     "metadata": {},
     "output_type": "execute_result"
    }
   ],
   "source": [
    "for i in rev_tag:\n",
    "    Review_summary.append(i.text)\n",
    "Review_summary[0:10]"
   ]
  },
  {
   "cell_type": "code",
   "execution_count": 77,
   "metadata": {},
   "outputs": [
    {
     "data": {
      "text/plain": [
       "['Amazing phone with great cameras and better battery which gives you the best performance. I just love the camera .',\n",
       " 'Amazing Powerful and Durable Gadget.\\n\\nI’m am very happy with the camera picture quality, Amazing face id unlocked in dark room, Strong battery with perfect screen size as you can carry easily in pocket. This is my third iPhone.\\n\\nI shifted from android Samsung Note series to iPhone because of the strong build quality and peace of mind for next 3-4 years.\\n\\nDon’t think to much just go for it and I suggest you to go for minimum 128gb variant or more 256gb.\\n\\nI’ve attached my puppy pics and no fi...\\nREAD MORE',\n",
       " 'iphone 11 is a very good phone to buy only if you can compromise for the display. The display on this is device is pretty good but you can get other options with better displays in this price segment.\\nIf you can survive with an HD+ LCD panel with thicker bezels and a notch up top then this is a very good phone for you.\\nCameras are awesome, battery backup excellent, great performance and a decent premium look. Good job Apple !',\n",
       " '',\n",
       " '',\n",
       " '',\n",
       " '',\n",
       " '',\n",
       " '',\n",
       " '']"
      ]
     },
     "execution_count": 77,
     "metadata": {},
     "output_type": "execute_result"
    }
   ],
   "source": [
    "for i in full_tag:\n",
    "    full_review.append(i.text)\n",
    "full_review[0:10]"
   ]
  },
  {
   "cell_type": "code",
   "execution_count": 86,
   "metadata": {},
   "outputs": [],
   "source": [
    "import pandas as pd\n",
    "Review_iphone=pd.DataFrame()\n",
    "Review_iphone['RATING']=Rating[0:3]\n",
    "Review_iphone['REVIEW_SUMMARY']=Review_summary[0:3]\n",
    "Review_iphone['FULL_REVIEW']=full_review[0:3]"
   ]
  },
  {
   "cell_type": "code",
   "execution_count": 87,
   "metadata": {},
   "outputs": [
    {
     "data": {
      "text/html": [
       "<div>\n",
       "<style scoped>\n",
       "    .dataframe tbody tr th:only-of-type {\n",
       "        vertical-align: middle;\n",
       "    }\n",
       "\n",
       "    .dataframe tbody tr th {\n",
       "        vertical-align: top;\n",
       "    }\n",
       "\n",
       "    .dataframe thead th {\n",
       "        text-align: right;\n",
       "    }\n",
       "</style>\n",
       "<table border=\"1\" class=\"dataframe\">\n",
       "  <thead>\n",
       "    <tr style=\"text-align: right;\">\n",
       "      <th></th>\n",
       "      <th>RATING</th>\n",
       "      <th>REVIEW_SUMMARY</th>\n",
       "      <th>FULL_REVIEW</th>\n",
       "    </tr>\n",
       "  </thead>\n",
       "  <tbody>\n",
       "    <tr>\n",
       "      <th>0</th>\n",
       "      <td>3</td>\n",
       "      <td>Perfect product!</td>\n",
       "      <td>Amazing phone with great cameras and better ba...</td>\n",
       "    </tr>\n",
       "    <tr>\n",
       "      <th>1</th>\n",
       "      <td>4</td>\n",
       "      <td>Great product</td>\n",
       "      <td>Amazing Powerful and Durable Gadget.\\n\\nI’m am...</td>\n",
       "    </tr>\n",
       "    <tr>\n",
       "      <th>2</th>\n",
       "      <td>4</td>\n",
       "      <td>Highly recommended</td>\n",
       "      <td>iphone 11 is a very good phone to buy only if ...</td>\n",
       "    </tr>\n",
       "  </tbody>\n",
       "</table>\n",
       "</div>"
      ],
      "text/plain": [
       "  RATING      REVIEW_SUMMARY  \\\n",
       "0      3    Perfect product!   \n",
       "1      4       Great product   \n",
       "2      4  Highly recommended   \n",
       "\n",
       "                                         FULL_REVIEW  \n",
       "0  Amazing phone with great cameras and better ba...  \n",
       "1  Amazing Powerful and Durable Gadget.\\n\\nI’m am...  \n",
       "2  iphone 11 is a very good phone to buy only if ...  "
      ]
     },
     "execution_count": 87,
     "metadata": {},
     "output_type": "execute_result"
    }
   ],
   "source": [
    "Review_iphone"
   ]
  },
  {
   "cell_type": "code",
   "execution_count": null,
   "metadata": {},
   "outputs": [],
   "source": []
  },
  {
   "cell_type": "markdown",
   "metadata": {},
   "source": [
    "#question 8"
   ]
  },
  {
   "cell_type": "code",
   "execution_count": 52,
   "metadata": {},
   "outputs": [],
   "source": [
    "import selenium\n",
    "import pandas as pd\n",
    "from selenium import webdriver"
   ]
  },
  {
   "cell_type": "code",
   "execution_count": 53,
   "metadata": {},
   "outputs": [],
   "source": [
    "driver=webdriver.Chrome(\"Desktop/chromedriver.exe\")"
   ]
  },
  {
   "cell_type": "code",
   "execution_count": 54,
   "metadata": {},
   "outputs": [],
   "source": [
    "driver.get(\"https://www.flipkart.com\")"
   ]
  },
  {
   "cell_type": "code",
   "execution_count": 56,
   "metadata": {},
   "outputs": [],
   "source": [
    "brand=[]\n",
    "product_description=[]\n",
    "price=[]\n",
    "discount=[]"
   ]
  },
  {
   "cell_type": "code",
   "execution_count": 57,
   "metadata": {},
   "outputs": [],
   "source": [
    "url=\"https://www.flipkart.com/search?q=sneakers&sid=osp%2Ccil%2Ce1f&as=on&as-show=on&otracker=AS_QueryStore_OrganicAutoSuggest_1_5_na_na_na&otracker1=AS_QueryStore_OrganicAutoSuggest_1_5_na_na_na&as-pos=1&as-type=RECENT&suggestionId=sneakers%7CMen%27s+Casual+Shoes&requestId=34685b56-d205-4e86-8ab8-c4cc4cf12d50&as-searchtext=sneak\""
   ]
  },
  {
   "cell_type": "code",
   "execution_count": 58,
   "metadata": {},
   "outputs": [],
   "source": [
    "driver.get(url)"
   ]
  }
 ],
 "metadata": {
  "kernelspec": {
   "display_name": "Python 3",
   "language": "python",
   "name": "python3"
  },
  "language_info": {
   "codemirror_mode": {
    "name": "ipython",
    "version": 3
   },
   "file_extension": ".py",
   "mimetype": "text/x-python",
   "name": "python",
   "nbconvert_exporter": "python",
   "pygments_lexer": "ipython3",
   "version": "3.8.3"
  }
 },
 "nbformat": 4,
 "nbformat_minor": 4
}
